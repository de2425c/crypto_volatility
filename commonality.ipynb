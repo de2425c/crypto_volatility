{
 "cells": [
  {
   "cell_type": "code",
   "execution_count": 2,
   "metadata": {},
   "outputs": [],
   "source": [
    "import pandas as pd\n",
    "import numpy as np\n",
    "import torch\n",
    "from sklearn.preprocessing import StandardScaler\n",
    "from torch.utils.data import Dataset, DataLoader\n",
    "import matplotlib.pyplot as plt"
   ]
  },
  {
   "cell_type": "markdown",
   "metadata": {},
   "source": [
    "### Data\n",
    "--- \n",
    "- Process Log Returns and Volatility for largest 11 cryptocurrencies\n",
    "- Volatility is aggregated over a rolling 5 interval period\n",
    "- Aggregate market data (Using Market Data for largest Coins since smaller ones produce too much noise)"
   ]
  },
  {
   "cell_type": "code",
   "execution_count": 70,
   "metadata": {},
   "outputs": [],
   "source": [
    "coins = ['bitcoin','ethereum','ripple','binancecoin','solana','dogecoin','staked-ether','cardano','tron','avalanche-2','chainlink']\n",
    "data = pd.read_csv('./processed_data/data1.csv')\n",
    "for col in data.columns:\n",
    "    if col != 'timestamp':\n",
    "        data[f'{col}_squared_log_returns'] = np.log(data[col] / data[col].shift(1)) ** 2\n",
    "        data[f'{col}_log_volatility'] = np.log(data[col] / data[col].shift(1)).rolling(5).std()\n",
    "        \n",
    "        # Calculate market volatility\n",
    "data['market_squared_log_returns'] = data[[f'{coin}_squared_log_returns' for coin in coins]].mean(axis=1)\n",
    "data['market_log_volatility'] = data[[f'{coin}_log_volatility' for coin in coins]].mean(axis=1)\n",
    "data.dropna(inplace=True)"
   ]
  },
  {
   "cell_type": "markdown",
   "metadata": {},
   "source": [
    "### Dataset\n",
    "---"
   ]
  },
  {
   "cell_type": "code",
   "execution_count": 71,
   "metadata": {},
   "outputs": [],
   "source": [
    "class VolatilityDataset(Dataset):\n",
    "    def __init__(self, features, target):\n",
    "        self.features = features\n",
    "        self.target = target\n",
    "\n",
    "    def __len__(self):\n",
    "        return len(self.target)\n",
    "\n",
    "    def __getitem__(self, idx):\n",
    "        return self.features[idx], self.target[idx]"
   ]
  },
  {
   "cell_type": "markdown",
   "metadata": {},
   "source": [
    "### Training Data\n",
    "---\n",
    "- Features - Selected Coin Log Volatility and Squared Log Returns, Market Log Volatility and Squared Log Returns\n",
    "- Target - Log_Volatility for Selected Coin\n",
    "- Training Data = 80%, Testing Data = 20%"
   ]
  },
  {
   "cell_type": "code",
   "execution_count": 72,
   "metadata": {},
   "outputs": [],
   "source": [
    "coin = 'bitcoin'\n",
    "features = [data[f'{coin}_log_volatility'].values, data[f'{coin}_squared_log_returns'].values, data['market_log_volatility'].values, data['market_squared_log_returns'].values]\n",
    "target = [data[f'{coin}_log_volatility'].values]\n",
    "features = np.array(features).T\n",
    "target = np.array(target).T\n",
    "\n",
    "train_size = int(len(features) * 0.8)  \n",
    "X_train, X_test = features[:train_size], features[train_size:]\n",
    "y_train, y_test = target[:train_size], target[train_size:]\n",
    "\n",
    "scaler = StandardScaler()\n",
    "X_train = scaler.fit_transform(X_train)\n",
    "X_test = scaler.transform(X_test)\n",
    "\n",
    "X_train_tensor = torch.tensor(X_train, dtype=torch.float32)\n",
    "y_train_tensor = torch.tensor(y_train, dtype=torch.float32)\n",
    "X_test_tensor = torch.tensor(X_test, dtype=torch.float32)\n",
    "y_test_tensor = torch.tensor(y_test, dtype=torch.float32)\n",
    "\n",
    "train_dataset = VolatilityDataset(X_train_tensor, y_train_tensor)\n",
    "test_dataset = VolatilityDataset(X_test_tensor, y_test_tensor)\n",
    "\n",
    "train_loader = DataLoader(train_dataset, batch_size=32, shuffle=False)\n",
    "test_loader = DataLoader(test_dataset, batch_size=32, shuffle=False)\n",
    "\n",
    "input_size = X_train.shape[1]\n",
    "\n"
   ]
  },
  {
   "cell_type": "markdown",
   "metadata": {},
   "source": [
    "### LSTM Neural Network\n",
    "---\n",
    "- LSTM (128 -> 64)\n",
    "- ReLU\n",
    "- Linear (64 -> 32)\n",
    "- ReLU\n",
    "- Lineart (32 -> 1)"
   ]
  },
  {
   "cell_type": "code",
   "execution_count": 60,
   "metadata": {},
   "outputs": [],
   "source": [
    "import torch.nn as nn\n",
    "class VolatilityPredictor(nn.Module):\n",
    "    def __init__(self, input_size):\n",
    "        super(VolatilityPredictor, self).__init__()\n",
    "        self.LSTM = nn.LSTM(input_size, 64, batch_first=True)\n",
    "        self.seq = nn.Sequential(\n",
    "            nn.ReLU(),\n",
    "            nn.Linear(64, 32),\n",
    "            nn.ReLU(),\n",
    "            nn.Linear(32, 1)\n",
    "        )\n",
    "    def forward(self, x):\n",
    "        x,_ = self.LSTM(x)\n",
    "        x = self.seq(x)\n",
    "        return x"
   ]
  },
  {
   "cell_type": "markdown",
   "metadata": {},
   "source": [
    "### Train Model\n",
    "---\n",
    "- Use MSE Loss"
   ]
  },
  {
   "cell_type": "code",
   "execution_count": null,
   "metadata": {},
   "outputs": [],
   "source": [
    "model = VolatilityPredictor(input_size)\n",
    "loss_f = nn.MSELoss()\n",
    "optimizer = torch.optim.Adam(model.parameters(), lr=0.001)\n",
    "\n",
    "epochs = 100\n",
    "for epoch in range(epochs):\n",
    "    model.train()\n",
    "    epoch_loss = 0\n",
    "    for features, target in train_loader:\n",
    "        optimizer.zero_grad()\n",
    "        outputs = model(features).squeeze()  \n",
    "        loss = loss_f(outputs,target)\n",
    "        loss.backward()\n",
    "        optimizer.step()\n",
    "        epoch_loss += loss.item()\n",
    "    print(f\"Epoch {epoch + 1}/{epochs}, Loss: {epoch_loss / len(train_loader)}\")"
   ]
  },
  {
   "cell_type": "markdown",
   "metadata": {},
   "source": [
    "### Evaluate Model\n",
    "---\n",
    "- Plot Actuals vs Predictions for the testing dataset"
   ]
  },
  {
   "cell_type": "code",
   "execution_count": null,
   "metadata": {},
   "outputs": [],
   "source": [
    "from sklearn.metrics import mean_squared_error\n",
    "with torch.no_grad():\n",
    "    predictions = []\n",
    "    actuals = []\n",
    "    for features, targets in test_loader:\n",
    "        outputs = model(features).squeeze()\n",
    "        predictions.append(outputs.numpy())\n",
    "        actuals.append(targets.numpy())\n",
    "\n",
    "predictions = np.concatenate(predictions)\n",
    "actuals = np.concatenate(actuals).T[0]\n",
    "\n",
    "from sklearn.metrics import mean_squared_error\n",
    "mse = mean_squared_error(actuals, predictions)\n",
    "results = pd.DataFrame({\n",
    "    'actual': actuals,\n",
    "    'prediction': predictions\n",
    "})\n",
    "actuals = results['actual']\n",
    "predictions = results['prediction']\n",
    "index = results.index\n",
    "\n",
    "plt.figure(figsize=(10, 6))\n",
    "plt.plot(index, actuals, label='Actuals', linestyle='-')\n",
    "plt.plot(index, predictions, label='Predictions', linestyle='--')\n",
    "\n",
    "plt.title('Actuals vs Predictions')\n",
    "plt.xlabel('Index')\n",
    "plt.ylabel('Values')\n",
    "plt.legend()\n",
    "plt.grid(True)\n",
    "plt.tight_layout()\n",
    "\n",
    "plt.show()"
   ]
  },
  {
   "cell_type": "markdown",
   "metadata": {},
   "source": [
    "### Todo\n",
    "---\n",
    "- Try different time intervals"
   ]
  }
 ],
 "metadata": {
  "kernelspec": {
   "display_name": "venv",
   "language": "python",
   "name": "python3"
  },
  "language_info": {
   "codemirror_mode": {
    "name": "ipython",
    "version": 3
   },
   "file_extension": ".py",
   "mimetype": "text/x-python",
   "name": "python",
   "nbconvert_exporter": "python",
   "pygments_lexer": "ipython3",
   "version": "3.12.4"
  }
 },
 "nbformat": 4,
 "nbformat_minor": 2
}
