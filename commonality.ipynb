{
 "cells": [
  {
   "cell_type": "code",
   "execution_count": 2,
   "metadata": {},
   "outputs": [],
   "source": [
    "import pandas as pd\n",
    "import numpy as np\n",
    "import torch\n",
    "from sklearn.preprocessing import StandardScaler\n",
    "from torch.utils.data import Dataset, DataLoader\n",
    "import matplotlib.pyplot as plt"
   ]
  },
  {
   "cell_type": "markdown",
   "metadata": {},
   "source": [
    "### Data\n",
    "--- \n",
    "- Process Log Returns and Volatility for largest 11 cryptocurrencies\n",
    "- Volatility is aggregated over a rolling 5 interval period\n",
    "- Aggregate market data (Using Market Data for largest Coins since smaller ones produce too much noise)"
   ]
  },
  {
   "cell_type": "code",
   "execution_count": 70,
   "metadata": {},
   "outputs": [],
   "source": [
    "coins = ['bitcoin','ethereum','ripple','binancecoin','solana','dogecoin','staked-ether','cardano','tron','avalanche-2','chainlink']\n",
    "data = pd.read_csv('./processed_data/data1.csv')\n",
    "for col in data.columns:\n",
    "    if col != 'timestamp':\n",
    "        data[f'{col}_squared_log_returns'] = np.log(data[col] / data[col].shift(1)) ** 2\n",
    "        data[f'{col}_log_volatility'] = np.log(data[col] / data[col].shift(1)).rolling(5).std()\n",
    "        \n",
    "        # Calculate market volatility\n",
    "data['market_squared_log_returns'] = data[[f'{coin}_squared_log_returns' for coin in coins]].mean(axis=1)\n",
    "data['market_log_volatility'] = data[[f'{coin}_log_volatility' for coin in coins]].mean(axis=1)\n",
    "data.dropna(inplace=True)"
   ]
  },
  {
   "cell_type": "markdown",
   "metadata": {},
   "source": [
    "### Dataset\n",
    "---"
   ]
  },
  {
   "cell_type": "code",
   "execution_count": 71,
   "metadata": {},
   "outputs": [],
   "source": [
    "class VolatilityDataset(Dataset):\n",
    "    def __init__(self, features, target):\n",
    "        self.features = features\n",
    "        self.target = target\n",
    "\n",
    "    def __len__(self):\n",
    "        return len(self.target)\n",
    "\n",
    "    def __getitem__(self, idx):\n",
    "        return self.features[idx], self.target[idx]"
   ]
  },
  {
   "cell_type": "markdown",
   "metadata": {},
   "source": [
    "### Training Data\n",
    "---\n",
    "- Features - Selected Coin Log Volatility and Squared Log Returns, Market Log Volatility and Squared Log Returns\n",
    "- Target - Log_Volatility for Selected Coin\n",
    "- Training Data = 80%, Testing Data = 20%"
   ]
  },
  {
   "cell_type": "code",
   "execution_count": 72,
   "metadata": {},
   "outputs": [],
   "source": [
    "coin = 'bitcoin'\n",
    "features = [data[f'{coin}_log_volatility'].values, data[f'{coin}_squared_log_returns'].values, data['market_log_volatility'].values, data['market_squared_log_returns'].values]\n",
    "target = [data[f'{coin}_log_volatility'].values]\n",
    "features = np.array(features).T\n",
    "target = np.array(target).T\n",
    "\n",
    "train_size = int(len(features) * 0.8)  \n",
    "X_train, X_test = features[:train_size], features[train_size:]\n",
    "y_train, y_test = target[:train_size], target[train_size:]\n",
    "\n",
    "scaler = StandardScaler()\n",
    "X_train = scaler.fit_transform(X_train)\n",
    "X_test = scaler.transform(X_test)\n",
    "\n",
    "X_train_tensor = torch.tensor(X_train, dtype=torch.float32)\n",
    "y_train_tensor = torch.tensor(y_train, dtype=torch.float32)\n",
    "X_test_tensor = torch.tensor(X_test, dtype=torch.float32)\n",
    "y_test_tensor = torch.tensor(y_test, dtype=torch.float32)\n",
    "\n",
    "train_dataset = VolatilityDataset(X_train_tensor, y_train_tensor)\n",
    "test_dataset = VolatilityDataset(X_test_tensor, y_test_tensor)\n",
    "\n",
    "train_loader = DataLoader(train_dataset, batch_size=32, shuffle=False)\n",
    "test_loader = DataLoader(test_dataset, batch_size=32, shuffle=False)\n",
    "\n",
    "input_size = X_train.shape[1]\n",
    "\n"
   ]
  },
  {
   "cell_type": "markdown",
   "metadata": {},
   "source": [
    "### LSTM Neural Network\n",
    "---\n",
    "- LSTM (128 -> 64)\n",
    "- ReLU\n",
    "- Linear (64 -> 32)\n",
    "- ReLU\n",
    "- Lineart (32 -> 1)"
   ]
  },
  {
   "cell_type": "code",
   "execution_count": 60,
   "metadata": {},
   "outputs": [],
   "source": [
    "import torch.nn as nn\n",
    "class VolatilityPredictor(nn.Module):\n",
    "    def __init__(self, input_size):\n",
    "        super(VolatilityPredictor, self).__init__()\n",
    "        self.LSTM = nn.LSTM(input_size, 64, batch_first=True)\n",
    "        self.seq = nn.Sequential(\n",
    "            nn.ReLU(),\n",
    "            nn.Linear(64, 32),\n",
    "            nn.ReLU(),\n",
    "            nn.Linear(32, 1)\n",
    "        )\n",
    "    def forward(self, x):\n",
    "        x,_ = self.LSTM(x)\n",
    "        x = self.seq(x)\n",
    "        return x"
   ]
  },
  {
   "cell_type": "markdown",
   "metadata": {},
   "source": [
    "### Train Model\n",
    "---\n",
    "- Use MSE Loss"
   ]
  },
  {
   "cell_type": "code",
   "execution_count": 73,
   "metadata": {},
   "outputs": [
    {
     "name": "stderr",
     "output_type": "stream",
     "text": [
      "c:\\Volatility\\DNN\\crypto_volatility\\venv\\Lib\\site-packages\\torch\\nn\\modules\\loss.py:608: UserWarning: Using a target size (torch.Size([32, 1])) that is different to the input size (torch.Size([32])). This will likely lead to incorrect results due to broadcasting. Please ensure they have the same size.\n",
      "  return F.mse_loss(input, target, reduction=self.reduction)\n",
      "c:\\Volatility\\DNN\\crypto_volatility\\venv\\Lib\\site-packages\\torch\\nn\\modules\\loss.py:608: UserWarning: Using a target size (torch.Size([5, 1])) that is different to the input size (torch.Size([5])). This will likely lead to incorrect results due to broadcasting. Please ensure they have the same size.\n",
      "  return F.mse_loss(input, target, reduction=self.reduction)\n"
     ]
    },
    {
     "name": "stdout",
     "output_type": "stream",
     "text": [
      "Epoch 1/100, Loss: 0.0008342255357795036\n",
      "Epoch 2/100, Loss: 1.9514381866465196e-05\n",
      "Epoch 3/100, Loss: 1.3269973396858188e-05\n",
      "Epoch 4/100, Loss: 1.1554107912573246e-05\n",
      "Epoch 5/100, Loss: 1.0923276754578417e-05\n",
      "Epoch 6/100, Loss: 1.0680203449692722e-05\n",
      "Epoch 7/100, Loss: 1.0512612286022138e-05\n",
      "Epoch 8/100, Loss: 1.045835193257526e-05\n",
      "Epoch 9/100, Loss: 1.0324619952629885e-05\n",
      "Epoch 10/100, Loss: 1.0340795488260293e-05\n",
      "Epoch 11/100, Loss: 1.0500204637375448e-05\n",
      "Epoch 12/100, Loss: 1.0690089098656614e-05\n",
      "Epoch 13/100, Loss: 1.0808843901295043e-05\n",
      "Epoch 14/100, Loss: 1.1034061988607842e-05\n",
      "Epoch 15/100, Loss: 1.1078548172180814e-05\n",
      "Epoch 16/100, Loss: 1.103612056331348e-05\n",
      "Epoch 17/100, Loss: 1.1144203889224321e-05\n",
      "Epoch 18/100, Loss: 1.1306433035143203e-05\n",
      "Epoch 19/100, Loss: 1.135907813838147e-05\n",
      "Epoch 20/100, Loss: 1.1245113852434841e-05\n",
      "Epoch 21/100, Loss: 1.1216053734285809e-05\n",
      "Epoch 22/100, Loss: 1.1105907757405251e-05\n",
      "Epoch 23/100, Loss: 1.0871927456589831e-05\n",
      "Epoch 24/100, Loss: 1.1116637824924024e-05\n",
      "Epoch 25/100, Loss: 1.0762265647750465e-05\n",
      "Epoch 26/100, Loss: 1.0629339695524908e-05\n",
      "Epoch 27/100, Loss: 1.0838041669159685e-05\n",
      "Epoch 28/100, Loss: 1.1015994301028558e-05\n",
      "Epoch 29/100, Loss: 1.0401717561296776e-05\n",
      "Epoch 30/100, Loss: 1.0535202433191957e-05\n",
      "Epoch 31/100, Loss: 1.0174511743203126e-05\n",
      "Epoch 32/100, Loss: 1.0010453862751902e-05\n",
      "Epoch 33/100, Loss: 1.0018180513824437e-05\n",
      "Epoch 34/100, Loss: 1.0385184653061812e-05\n",
      "Epoch 35/100, Loss: 1.043601422857632e-05\n",
      "Epoch 36/100, Loss: 1.0328854041757599e-05\n",
      "Epoch 37/100, Loss: 9.920231347581252e-06\n",
      "Epoch 38/100, Loss: 1.0404371517911206e-05\n",
      "Epoch 39/100, Loss: 1.0424079633534717e-05\n",
      "Epoch 40/100, Loss: 9.977957950660888e-06\n",
      "Epoch 41/100, Loss: 1.0435387171516577e-05\n",
      "Epoch 42/100, Loss: 1.0080203347004022e-05\n",
      "Epoch 43/100, Loss: 1.0338217128327694e-05\n",
      "Epoch 44/100, Loss: 9.836564855602476e-06\n",
      "Epoch 45/100, Loss: 9.805548571654243e-06\n",
      "Epoch 46/100, Loss: 9.92169059721767e-06\n",
      "Epoch 47/100, Loss: 9.587617754640192e-06\n",
      "Epoch 48/100, Loss: 1.0475961055711799e-05\n",
      "Epoch 49/100, Loss: 9.503849202131971e-06\n",
      "Epoch 50/100, Loss: 9.66737662204961e-06\n",
      "Epoch 51/100, Loss: 9.673458300699842e-06\n",
      "Epoch 52/100, Loss: 9.614519842502301e-06\n",
      "Epoch 53/100, Loss: 9.58793908401474e-06\n",
      "Epoch 54/100, Loss: 9.508298000108843e-06\n",
      "Epoch 55/100, Loss: 1.0050173950494444e-05\n",
      "Epoch 56/100, Loss: 9.407594741940844e-06\n",
      "Epoch 57/100, Loss: 9.418437302726246e-06\n",
      "Epoch 58/100, Loss: 9.333549075567999e-06\n",
      "Epoch 59/100, Loss: 9.254091769390011e-06\n",
      "Epoch 60/100, Loss: 9.202335490250775e-06\n",
      "Epoch 61/100, Loss: 9.35597806461027e-06\n",
      "Epoch 62/100, Loss: 9.504148346251787e-06\n",
      "Epoch 63/100, Loss: 9.133630451338552e-06\n",
      "Epoch 64/100, Loss: 9.957123590470023e-06\n",
      "Epoch 65/100, Loss: 9.124912681932298e-06\n",
      "Epoch 66/100, Loss: 9.147100352933112e-06\n",
      "Epoch 67/100, Loss: 9.178415785081507e-06\n",
      "Epoch 68/100, Loss: 9.18409680669284e-06\n",
      "Epoch 69/100, Loss: 9.113418165966188e-06\n",
      "Epoch 70/100, Loss: 9.782562848318541e-06\n",
      "Epoch 71/100, Loss: 9.692258155714716e-06\n",
      "Epoch 72/100, Loss: 9.49626004431494e-06\n",
      "Epoch 73/100, Loss: 9.00928652207326e-06\n",
      "Epoch 74/100, Loss: 8.97966118729825e-06\n",
      "Epoch 75/100, Loss: 9.301637917354866e-06\n",
      "Epoch 76/100, Loss: 9.13955742471489e-06\n",
      "Epoch 77/100, Loss: 9.042692279494266e-06\n",
      "Epoch 78/100, Loss: 9.06409777815718e-06\n",
      "Epoch 79/100, Loss: 9.020843670904163e-06\n",
      "Epoch 80/100, Loss: 8.975997103995255e-06\n",
      "Epoch 81/100, Loss: 8.971244387051382e-06\n",
      "Epoch 82/100, Loss: 9.023058206644867e-06\n",
      "Epoch 83/100, Loss: 9.159556850056222e-06\n",
      "Epoch 84/100, Loss: 9.156381349023579e-06\n",
      "Epoch 85/100, Loss: 8.94209875416954e-06\n",
      "Epoch 86/100, Loss: 9.01304655129853e-06\n",
      "Epoch 87/100, Loss: 9.13125705554842e-06\n",
      "Epoch 88/100, Loss: 9.177498912554211e-06\n",
      "Epoch 89/100, Loss: 8.857547662233124e-06\n",
      "Epoch 90/100, Loss: 8.879957122465582e-06\n",
      "Epoch 91/100, Loss: 9.318359587810206e-06\n",
      "Epoch 92/100, Loss: 8.770151129872172e-06\n",
      "Epoch 93/100, Loss: 8.732789785402937e-06\n",
      "Epoch 94/100, Loss: 8.736965234212527e-06\n",
      "Epoch 95/100, Loss: 8.748734414764542e-06\n",
      "Epoch 96/100, Loss: 8.805743664310069e-06\n",
      "Epoch 97/100, Loss: 8.912566337419839e-06\n",
      "Epoch 98/100, Loss: 9.007188956581226e-06\n",
      "Epoch 99/100, Loss: 8.865500839957881e-06\n",
      "Epoch 100/100, Loss: 8.894748010381572e-06\n"
     ]
    }
   ],
   "source": [
    "model = VolatilityPredictor(input_size)\n",
    "loss_f = nn.MSELoss()\n",
    "optimizer = torch.optim.Adam(model.parameters(), lr=0.001)\n",
    "\n",
    "epochs = 100\n",
    "for epoch in range(epochs):\n",
    "    model.train()\n",
    "    epoch_loss = 0\n",
    "    for features, target in train_loader:\n",
    "        optimizer.zero_grad()\n",
    "        outputs = model(features).squeeze()  \n",
    "        loss = loss_f(outputs,target)\n",
    "        loss.backward()\n",
    "        optimizer.step()\n",
    "        epoch_loss += loss.item()\n",
    "    print(f\"Epoch {epoch + 1}/{epochs}, Loss: {epoch_loss / len(train_loader)}\")"
   ]
  },
  {
   "cell_type": "markdown",
   "metadata": {},
   "source": [
    "### Evaluate Model\n",
    "---\n",
    "- Plot Actuals vs Predictions for the testing dataset"
   ]
  },
  {
   "cell_type": "code",
   "execution_count": null,
   "metadata": {},
   "outputs": [],
   "source": [
    "from sklearn.metrics import mean_squared_error\n",
    "with torch.no_grad():\n",
    "    predictions = []\n",
    "    actuals = []\n",
    "    for features, targets in test_loader:\n",
    "        outputs = model(features).squeeze()\n",
    "        predictions.append(outputs.numpy())\n",
    "        actuals.append(targets.numpy())\n",
    "\n",
    "predictions = np.concatenate(predictions)\n",
    "actuals = np.concatenate(actuals).T[0]\n",
    "\n",
    "from sklearn.metrics import mean_squared_error\n",
    "mse = mean_squared_error(actuals, predictions)\n",
    "results = pd.DataFrame({\n",
    "    'actual': actuals,\n",
    "    'prediction': predictions\n",
    "})\n",
    "actuals = results['actual']\n",
    "predictions = results['prediction']\n",
    "index = results.index\n",
    "\n",
    "plt.figure(figsize=(10, 6))\n",
    "plt.plot(index, actuals, label='Actuals', linestyle='-')\n",
    "plt.plot(index, predictions, label='Predictions', linestyle='--')\n",
    "\n",
    "plt.title('Actuals vs Predictions')\n",
    "plt.xlabel('Index')\n",
    "plt.ylabel('Values')\n",
    "plt.legend()\n",
    "plt.grid(True)\n",
    "plt.tight_layout()\n",
    "\n",
    "plt.show()"
   ]
  },
  {
   "cell_type": "markdown",
   "metadata": {},
   "source": [
    "### Todo\n",
    "---\n",
    "- Try different time intervals"
   ]
  }
 ],
 "metadata": {
  "kernelspec": {
   "display_name": "venv",
   "language": "python",
   "name": "python3"
  },
  "language_info": {
   "codemirror_mode": {
    "name": "ipython",
    "version": 3
   },
   "file_extension": ".py",
   "mimetype": "text/x-python",
   "name": "python",
   "nbconvert_exporter": "python",
   "pygments_lexer": "ipython3",
   "version": "3.12.4"
  }
 },
 "nbformat": 4,
 "nbformat_minor": 2
}
